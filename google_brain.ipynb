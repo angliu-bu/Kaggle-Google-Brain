{
 "cells": [
  {
   "cell_type": "markdown",
   "id": "cba19051",
   "metadata": {
    "papermill": {
     "duration": 0.010336,
     "end_time": "2021-10-17T18:49:39.772401",
     "exception": false,
     "start_time": "2021-10-17T18:49:39.762065",
     "status": "completed"
    },
    "tags": []
   },
   "source": [
    "##### The issue of weighed ensemble in kaggle competitions is that weight are tuned according the test data in the public score. Therefore, one may get high score in the public leaderboard, but lose his/her position in the public one because of overfitting. It is much saver to not use test dataset in model at all and try various statistical techniques instead.\n",
    "\n",
    "*Upvote if useful!*"
   ]
  },
  {
   "cell_type": "code",
   "execution_count": 1,
   "id": "3370404f",
   "metadata": {
    "execution": {
     "iopub.execute_input": "2021-10-17T18:49:39.807930Z",
     "iopub.status.busy": "2021-10-17T18:49:39.806109Z",
     "iopub.status.idle": "2021-10-17T18:49:39.813254Z",
     "shell.execute_reply": "2021-10-17T18:49:39.813793Z"
    },
    "papermill": {
     "duration": 0.031195,
     "end_time": "2021-10-17T18:49:39.814260",
     "exception": false,
     "start_time": "2021-10-17T18:49:39.783065",
     "status": "completed"
    },
    "tags": []
   },
   "outputs": [],
   "source": [
    "import pandas as pd\n",
    "import numpy as np"
   ]
  },
  {
   "cell_type": "code",
   "execution_count": 2,
   "id": "b20882da",
   "metadata": {
    "execution": {
     "iopub.execute_input": "2021-10-17T18:49:39.839197Z",
     "iopub.status.busy": "2021-10-17T18:49:39.838553Z",
     "iopub.status.idle": "2021-10-17T18:49:45.817050Z",
     "shell.execute_reply": "2021-10-17T18:49:45.816475Z",
     "shell.execute_reply.started": "2021-10-17T07:16:34.313948Z"
    },
    "papermill": {
     "duration": 5.993066,
     "end_time": "2021-10-17T18:49:45.817205",
     "exception": false,
     "start_time": "2021-10-17T18:49:39.824139",
     "status": "completed"
    },
    "tags": []
   },
   "outputs": [],
   "source": [
    "sub = pd.read_csv('../input/ventilator-pressure-prediction/sample_submission.csv')\n",
    "\n",
    "# public notebooks results\n",
    "sub_0 = pd.read_csv('../input/gb-vpp-whoppity-dub-dub/median_submission.csv')\n",
    "sub_1 = pd.read_csv('../input/gb-vpp-to-infinity-and-beyond/submission.csv')\n",
    "sub_2 = pd.read_csv('../input/pred-ventilator-lstm-model-0-149/submission.csv')"
   ]
  },
  {
   "cell_type": "code",
   "execution_count": 3,
   "id": "54c01eac",
   "metadata": {
    "execution": {
     "iopub.execute_input": "2021-10-17T18:49:45.845687Z",
     "iopub.status.busy": "2021-10-17T18:49:45.844783Z",
     "iopub.status.idle": "2021-10-17T18:49:45.927930Z",
     "shell.execute_reply": "2021-10-17T18:49:45.928365Z",
     "shell.execute_reply.started": "2021-10-17T07:16:52.003655Z"
    },
    "papermill": {
     "duration": 0.101702,
     "end_time": "2021-10-17T18:49:45.928575",
     "exception": false,
     "start_time": "2021-10-17T18:49:45.826873",
     "status": "completed"
    },
    "tags": []
   },
   "outputs": [
    {
     "data": {
      "text/plain": [
       "array([[6.259344  , 5.978134  , 7.102974  , ..., 6.470251  , 6.189041  ,\n",
       "        6.329647  ],\n",
       "       [6.317731  , 5.987313  , 7.154845  , ..., 6.398248  , 6.1584907 ,\n",
       "        6.33103   ],\n",
       "       [6.32960672, 5.978096  , 7.10293032, ..., 6.32960672, 6.18900243,\n",
       "        6.32960672]])"
      ]
     },
     "execution_count": 3,
     "metadata": {},
     "output_type": "execute_result"
    }
   ],
   "source": [
    "pred = np.array([np.array(sub_0['pressure'].values), np.array(sub_1['pressure'].values), np.array(sub_2['pressure'].values)])\n",
    "pred"
   ]
  },
  {
   "cell_type": "markdown",
   "id": "f2fa87e9",
   "metadata": {
    "papermill": {
     "duration": 0.009712,
     "end_time": "2021-10-17T18:49:45.947966",
     "exception": false,
     "start_time": "2021-10-17T18:49:45.938254",
     "status": "completed"
    },
    "tags": []
   },
   "source": [
    "Here we try 3 things. \n",
    "1. Find mean predictions of three notebooks. If the predictions are very scattered, this will not improve score much. \n",
    "1. Try is to use median, it will work well with scattered data. \n",
    "1. This is more experimental; standard deviation of the predictions will be calculated, data will be clipped with this range and average of clipped data calculated. It still uses mean, but it will eliminate data that are very far from average point and therefore should reduce sparce effect"
   ]
  },
  {
   "cell_type": "code",
   "execution_count": 4,
   "id": "35ca9473",
   "metadata": {
    "execution": {
     "iopub.execute_input": "2021-10-17T18:49:45.973242Z",
     "iopub.status.busy": "2021-10-17T18:49:45.972559Z",
     "iopub.status.idle": "2021-10-17T18:49:46.426744Z",
     "shell.execute_reply": "2021-10-17T18:49:46.426188Z",
     "shell.execute_reply.started": "2021-10-17T07:16:54.667367Z"
    },
    "papermill": {
     "duration": 0.469168,
     "end_time": "2021-10-17T18:49:46.426893",
     "exception": false,
     "start_time": "2021-10-17T18:49:45.957725",
     "status": "completed"
    },
    "tags": []
   },
   "outputs": [],
   "source": [
    "# Finding statistical features\n",
    "mean = np.mean(pred, axis=0)\n",
    "med = np.median(pred, axis=0)\n",
    "std = np.std(pred, axis=0)"
   ]
  },
  {
   "cell_type": "code",
   "execution_count": 5,
   "id": "b577e679",
   "metadata": {
    "execution": {
     "iopub.execute_input": "2021-10-17T18:49:46.448743Z",
     "iopub.status.busy": "2021-10-17T18:49:46.448089Z",
     "iopub.status.idle": "2021-10-17T18:49:46.638657Z",
     "shell.execute_reply": "2021-10-17T18:49:46.637809Z",
     "shell.execute_reply.started": "2021-10-17T07:17:00.266938Z"
    },
    "papermill": {
     "duration": 0.202657,
     "end_time": "2021-10-17T18:49:46.638829",
     "exception": false,
     "start_time": "2021-10-17T18:49:46.436172",
     "status": "completed"
    },
    "tags": []
   },
   "outputs": [],
   "source": [
    "# mean of values inside the standard mean\n",
    "clipped_pres = np.clip(np.vstack(pred), mean-std, mean+std)\n",
    "clipped_mean = np.mean(clipped_pres, axis=0)"
   ]
  },
  {
   "cell_type": "code",
   "execution_count": 6,
   "id": "1aedf0ed",
   "metadata": {
    "execution": {
     "iopub.execute_input": "2021-10-17T18:49:46.665279Z",
     "iopub.status.busy": "2021-10-17T18:49:46.664629Z",
     "iopub.status.idle": "2021-10-17T18:50:01.243671Z",
     "shell.execute_reply": "2021-10-17T18:50:01.243033Z",
     "shell.execute_reply.started": "2021-10-17T07:17:03.467717Z"
    },
    "papermill": {
     "duration": 14.594586,
     "end_time": "2021-10-17T18:50:01.243811",
     "exception": false,
     "start_time": "2021-10-17T18:49:46.649225",
     "status": "completed"
    },
    "tags": []
   },
   "outputs": [
    {
     "data": {
      "text/html": [
       "<div>\n",
       "<style scoped>\n",
       "    .dataframe tbody tr th:only-of-type {\n",
       "        vertical-align: middle;\n",
       "    }\n",
       "\n",
       "    .dataframe tbody tr th {\n",
       "        vertical-align: top;\n",
       "    }\n",
       "\n",
       "    .dataframe thead th {\n",
       "        text-align: right;\n",
       "    }\n",
       "</style>\n",
       "<table border=\"1\" class=\"dataframe\">\n",
       "  <thead>\n",
       "    <tr style=\"text-align: right;\">\n",
       "      <th></th>\n",
       "      <th>id</th>\n",
       "      <th>pressure</th>\n",
       "    </tr>\n",
       "  </thead>\n",
       "  <tbody>\n",
       "    <tr>\n",
       "      <th>0</th>\n",
       "      <td>1</td>\n",
       "      <td>6.302227</td>\n",
       "    </tr>\n",
       "    <tr>\n",
       "      <th>1</th>\n",
       "      <td>2</td>\n",
       "      <td>5.981181</td>\n",
       "    </tr>\n",
       "    <tr>\n",
       "      <th>2</th>\n",
       "      <td>3</td>\n",
       "      <td>7.120250</td>\n",
       "    </tr>\n",
       "    <tr>\n",
       "      <th>3</th>\n",
       "      <td>4</td>\n",
       "      <td>7.609636</td>\n",
       "    </tr>\n",
       "    <tr>\n",
       "      <th>4</th>\n",
       "      <td>5</td>\n",
       "      <td>9.147787</td>\n",
       "    </tr>\n",
       "  </tbody>\n",
       "</table>\n",
       "</div>"
      ],
      "text/plain": [
       "   id  pressure\n",
       "0   1  6.302227\n",
       "1   2  5.981181\n",
       "2   3  7.120250\n",
       "3   4  7.609636\n",
       "4   5  9.147787"
      ]
     },
     "execution_count": 6,
     "metadata": {},
     "output_type": "execute_result"
    }
   ],
   "source": [
    "sub['pressure'] = mean\n",
    "sub.to_csv('submission_mean.csv', index=False)\n",
    "sub.head(5)"
   ]
  },
  {
   "cell_type": "code",
   "execution_count": 7,
   "id": "380638b4",
   "metadata": {
    "execution": {
     "iopub.execute_input": "2021-10-17T18:50:01.269257Z",
     "iopub.status.busy": "2021-10-17T18:50:01.268500Z",
     "iopub.status.idle": "2021-10-17T18:50:14.025131Z",
     "shell.execute_reply": "2021-10-17T18:50:14.025674Z"
    },
    "papermill": {
     "duration": 12.771838,
     "end_time": "2021-10-17T18:50:14.025846",
     "exception": false,
     "start_time": "2021-10-17T18:50:01.254008",
     "status": "completed"
    },
    "tags": []
   },
   "outputs": [
    {
     "data": {
      "text/html": [
       "<div>\n",
       "<style scoped>\n",
       "    .dataframe tbody tr th:only-of-type {\n",
       "        vertical-align: middle;\n",
       "    }\n",
       "\n",
       "    .dataframe tbody tr th {\n",
       "        vertical-align: top;\n",
       "    }\n",
       "\n",
       "    .dataframe thead th {\n",
       "        text-align: right;\n",
       "    }\n",
       "</style>\n",
       "<table border=\"1\" class=\"dataframe\">\n",
       "  <thead>\n",
       "    <tr style=\"text-align: right;\">\n",
       "      <th></th>\n",
       "      <th>id</th>\n",
       "      <th>pressure</th>\n",
       "    </tr>\n",
       "  </thead>\n",
       "  <tbody>\n",
       "    <tr>\n",
       "      <th>0</th>\n",
       "      <td>1</td>\n",
       "      <td>6.317731</td>\n",
       "    </tr>\n",
       "    <tr>\n",
       "      <th>1</th>\n",
       "      <td>2</td>\n",
       "      <td>5.978134</td>\n",
       "    </tr>\n",
       "    <tr>\n",
       "      <th>2</th>\n",
       "      <td>3</td>\n",
       "      <td>7.102974</td>\n",
       "    </tr>\n",
       "    <tr>\n",
       "      <th>3</th>\n",
       "      <td>4</td>\n",
       "      <td>7.595091</td>\n",
       "    </tr>\n",
       "    <tr>\n",
       "      <th>4</th>\n",
       "      <td>5</td>\n",
       "      <td>9.141746</td>\n",
       "    </tr>\n",
       "  </tbody>\n",
       "</table>\n",
       "</div>"
      ],
      "text/plain": [
       "   id  pressure\n",
       "0   1  6.317731\n",
       "1   2  5.978134\n",
       "2   3  7.102974\n",
       "3   4  7.595091\n",
       "4   5  9.141746"
      ]
     },
     "execution_count": 7,
     "metadata": {},
     "output_type": "execute_result"
    }
   ],
   "source": [
    "sub['pressure'] = med\n",
    "sub.to_csv('submission_median.csv', index=False)\n",
    "sub.head(5)"
   ]
  },
  {
   "cell_type": "code",
   "execution_count": 8,
   "id": "e66b96f4",
   "metadata": {
    "execution": {
     "iopub.execute_input": "2021-10-17T18:50:14.052240Z",
     "iopub.status.busy": "2021-10-17T18:50:14.051528Z",
     "iopub.status.idle": "2021-10-17T18:50:28.666446Z",
     "shell.execute_reply": "2021-10-17T18:50:28.665893Z",
     "shell.execute_reply.started": "2021-10-17T07:17:23.790044Z"
    },
    "papermill": {
     "duration": 14.630297,
     "end_time": "2021-10-17T18:50:28.666599",
     "exception": false,
     "start_time": "2021-10-17T18:50:14.036302",
     "status": "completed"
    },
    "tags": []
   },
   "outputs": [
    {
     "data": {
      "text/html": [
       "<div>\n",
       "<style scoped>\n",
       "    .dataframe tbody tr th:only-of-type {\n",
       "        vertical-align: middle;\n",
       "    }\n",
       "\n",
       "    .dataframe tbody tr th {\n",
       "        vertical-align: top;\n",
       "    }\n",
       "\n",
       "    .dataframe thead th {\n",
       "        text-align: right;\n",
       "    }\n",
       "</style>\n",
       "<table border=\"1\" class=\"dataframe\">\n",
       "  <thead>\n",
       "    <tr style=\"text-align: right;\">\n",
       "      <th></th>\n",
       "      <th>id</th>\n",
       "      <th>pressure</th>\n",
       "    </tr>\n",
       "  </thead>\n",
       "  <tbody>\n",
       "    <tr>\n",
       "      <th>0</th>\n",
       "      <td>1</td>\n",
       "      <td>6.306286</td>\n",
       "    </tr>\n",
       "    <tr>\n",
       "      <th>1</th>\n",
       "      <td>2</td>\n",
       "      <td>5.980582</td>\n",
       "    </tr>\n",
       "    <tr>\n",
       "      <th>2</th>\n",
       "      <td>3</td>\n",
       "      <td>7.116872</td>\n",
       "    </tr>\n",
       "    <tr>\n",
       "      <th>3</th>\n",
       "      <td>4</td>\n",
       "      <td>7.606791</td>\n",
       "    </tr>\n",
       "    <tr>\n",
       "      <th>4</th>\n",
       "      <td>5</td>\n",
       "      <td>9.146602</td>\n",
       "    </tr>\n",
       "  </tbody>\n",
       "</table>\n",
       "</div>"
      ],
      "text/plain": [
       "   id  pressure\n",
       "0   1  6.306286\n",
       "1   2  5.980582\n",
       "2   3  7.116872\n",
       "3   4  7.606791\n",
       "4   5  9.146602"
      ]
     },
     "execution_count": 8,
     "metadata": {},
     "output_type": "execute_result"
    }
   ],
   "source": [
    "sub['pressure'] = clipped_mean\n",
    "sub.to_csv('submission_clipped_mean.csv', index=False)\n",
    "sub.head(5)"
   ]
  },
  {
   "cell_type": "markdown",
   "id": "02e88082",
   "metadata": {
    "papermill": {
     "duration": 0.010715,
     "end_time": "2021-10-17T18:50:28.688809",
     "exception": false,
     "start_time": "2021-10-17T18:50:28.678094",
     "status": "completed"
    },
    "tags": []
   },
   "source": [
    "1. Score of mean on public leaderboard -> 0.144\n",
    "1. Score of median on public leaderboard -> 0.141\n",
    "1. Score ofclipped mean on public leaderboard -> 0.143\n",
    "\n",
    "This shows that median method is best statistical approach among three and mean is the worst. However, in my opinion if larger number of predictions would be used, clipped mean would show same or better result as median"
   ]
  }
 ],
 "metadata": {
  "kernelspec": {
   "display_name": "Python 3",
   "language": "python",
   "name": "python3"
  },
  "language_info": {
   "codemirror_mode": {
    "name": "ipython",
    "version": 3
   },
   "file_extension": ".py",
   "mimetype": "text/x-python",
   "name": "python",
   "nbconvert_exporter": "python",
   "pygments_lexer": "ipython3",
   "version": "3.7.10"
  },
  "papermill": {
   "default_parameters": {},
   "duration": 58.797366,
   "end_time": "2021-10-17T18:50:30.143681",
   "environment_variables": {},
   "exception": null,
   "input_path": "__notebook__.ipynb",
   "output_path": "__notebook__.ipynb",
   "parameters": {},
   "start_time": "2021-10-17T18:49:31.346315",
   "version": "2.3.3"
  }
 },
 "nbformat": 4,
 "nbformat_minor": 5
}
